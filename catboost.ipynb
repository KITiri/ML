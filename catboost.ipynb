{
 "cells": [
  {
   "cell_type": "markdown",
   "metadata": {},
   "source": [
    "# Импорт библиотек"
   ]
  },
  {
   "cell_type": "code",
   "execution_count": 1,
   "metadata": {
    "id": "uaKzqUxsdjDa"
   },
   "outputs": [],
   "source": [
    "import pandas as pd\n",
    "import numpy as np\n",
    "import seaborn as sns\n",
    "import matplotlib.pyplot as plt\n",
    "import warnings\n",
    "\n",
    "warnings.simplefilter(action='ignore', category=FutureWarning)\n",
    "from sklearn.model_selection import train_test_split\n",
    "from sklearn.metrics import recall_score\n",
    "from catboost import CatBoostClassifier\n",
    "\n",
    "%matplotlib inline"
   ]
  },
  {
   "cell_type": "markdown",
   "metadata": {},
   "source": [
    "# Загрузка и обработка датасетов"
   ]
  },
  {
   "cell_type": "markdown",
   "metadata": {},
   "source": [
    "## трейн"
   ]
  },
  {
   "cell_type": "code",
   "execution_count": 2,
   "metadata": {
    "colab": {
     "base_uri": "https://localhost:8080/"
    },
    "id": "2scLoULoXkT0",
    "outputId": "f34d3abd-0c25-4cb1-bc9a-36e9a8739c3a",
    "scrolled": true
   },
   "outputs": [],
   "source": [
    "df_raw = pd.read_csv(r\"C:\\Users\\RedmiBook\\Documents\\hacks\\Russian Post\\train_dataset_train.csv\", low_memory=False)"
   ]
  },
  {
   "cell_type": "code",
   "execution_count": 3,
   "metadata": {
    "id": "at9QQkMNA-VV"
   },
   "outputs": [],
   "source": [
    "fill_mode = lambda col: col.fillna(col.mode())\n",
    "df_raw = df_raw.apply(fill_mode, axis=0)"
   ]
  },
  {
   "cell_type": "code",
   "execution_count": 4,
   "metadata": {},
   "outputs": [],
   "source": [
    "def change_types(df):\n",
    "    return df.astype({'class':'int32', 'priority':'int32', 'mailtype':'int32', \n",
    "          'mailctg':'int32', 'mailrank':'int32', 'directctg':'int32', 'postmark':'int32', \n",
    "           'dist_qty_oper_login_1':'int32', 'total_qty_oper_login_1':'int32',\n",
    "           'total_qty_oper_login_0':'int32', 'total_qty_over_index_and_type':'int32', \n",
    "           'total_qty_over_index':'int32', 'is_wrong_sndr_name':'int32', \n",
    "           'is_wrong_rcpn_name':'int32', 'is_wrong_phone_number':'int32', 'is_wrong_address':'int32'})"
   ]
  },
  {
   "cell_type": "code",
   "execution_count": 5,
   "metadata": {},
   "outputs": [],
   "source": [
    "df_raw = change_types(df_raw)\n",
    "df = df_raw.drop(['id', 'oper_type + oper_attr'], axis = 1)\n",
    "df['label'] = df.groupby(list(set(df.columns) - {'label'}))['label'].transform('max')\n",
    "df['num_oper_count'] = df.groupby(list(df.columns))['label'].transform('count')\n",
    "df = df.drop_duplicates()"
   ]
  },
  {
   "cell_type": "markdown",
   "metadata": {},
   "source": [
    "## тест"
   ]
  },
  {
   "cell_type": "code",
   "execution_count": 6,
   "metadata": {},
   "outputs": [],
   "source": [
    "df_test = pd.read_csv(r\"C:\\Users\\RedmiBook\\Documents\\hacks\\Russian Post\\test_dataset_test.csv\", low_memory=False)\n",
    "df_test = change_types(df_test.apply(fill_mode, axis=0))"
   ]
  },
  {
   "cell_type": "code",
   "execution_count": 19,
   "metadata": {},
   "outputs": [],
   "source": [
    "df_test_new = df_test.drop(['id', 'oper_type + oper_attr'], axis = 1)\n",
    "df_test_new = df_test_new.merge(df.drop('label',axis=1), how='left')\n",
    "df_test_new['num_oper_count'] = df_test_new['num_oper_count'].fillna(0)"
   ]
  },
  {
   "cell_type": "code",
   "execution_count": 20,
   "metadata": {},
   "outputs": [],
   "source": [
    "df_new = df.drop(['name_mfi'], axis = 1)\n",
    "df_new = df_new.drop_duplicates()\n",
    "df_test_new = df_test_new.drop(['name_mfi'], axis = 1)"
   ]
  },
  {
   "cell_type": "markdown",
   "metadata": {},
   "source": [
    "## Кэтбуст"
   ]
  },
  {
   "cell_type": "code",
   "execution_count": 9,
   "metadata": {
    "id": "jc-KKFlWf6_N"
   },
   "outputs": [],
   "source": [
    "clf = CatBoostClassifier(auto_class_weights='Balanced', iterations=200, cat_features=['index_oper', 'type', 'is_privatecategory', 'class', \n",
    "                                                                                                             'is_in_yandex', 'is_return','mailctg', 'mailtype',\n",
    "                                                                                                             'directctg', 'is_wrong_sndr_name', 'is_wrong_rcpn_name', \n",
    "                                                                                                             'is_wrong_phone_number', 'is_wrong_address', ])"
   ]
  },
  {
   "cell_type": "code",
   "execution_count": 21,
   "metadata": {},
   "outputs": [],
   "source": [
    "X = df_new.drop(['label'], axis = 1)\n",
    "y = df_new[['label']]"
   ]
  },
  {
   "cell_type": "markdown",
   "metadata": {
    "id": "DrF2LeJIBNYN"
   },
   "source": [
    "# Оценка точности"
   ]
  },
  {
   "cell_type": "code",
   "execution_count": 12,
   "metadata": {
    "id": "5Ph7vcoxBNYO",
    "scrolled": true
   },
   "outputs": [
    {
     "name": "stdout",
     "output_type": "stream",
     "text": [
      "Learning rate set to 0.5\n",
      "0:\tlearn: 0.3417792\ttotal: 956ms\tremaining: 3m 10s\n",
      "1:\tlearn: 0.2880500\ttotal: 1.75s\tremaining: 2m 53s\n",
      "2:\tlearn: 0.2747108\ttotal: 2.57s\tremaining: 2m 48s\n",
      "3:\tlearn: 0.2670777\ttotal: 3.24s\tremaining: 2m 38s\n",
      "4:\tlearn: 0.2624975\ttotal: 3.86s\tremaining: 2m 30s\n",
      "5:\tlearn: 0.2594438\ttotal: 4.57s\tremaining: 2m 27s\n",
      "6:\tlearn: 0.2570161\ttotal: 5.24s\tremaining: 2m 24s\n",
      "7:\tlearn: 0.2540928\ttotal: 5.89s\tremaining: 2m 21s\n",
      "8:\tlearn: 0.2531091\ttotal: 6.57s\tremaining: 2m 19s\n",
      "9:\tlearn: 0.2525331\ttotal: 7.27s\tremaining: 2m 18s\n",
      "10:\tlearn: 0.2511025\ttotal: 7.97s\tremaining: 2m 16s\n",
      "11:\tlearn: 0.2499619\ttotal: 8.69s\tremaining: 2m 16s\n",
      "12:\tlearn: 0.2487557\ttotal: 9.43s\tremaining: 2m 15s\n",
      "13:\tlearn: 0.2472867\ttotal: 10.2s\tremaining: 2m 14s\n",
      "14:\tlearn: 0.2462702\ttotal: 10.8s\tremaining: 2m 13s\n",
      "15:\tlearn: 0.2456791\ttotal: 11.5s\tremaining: 2m 12s\n",
      "16:\tlearn: 0.2453517\ttotal: 12.4s\tremaining: 2m 13s\n",
      "17:\tlearn: 0.2449897\ttotal: 13.5s\tremaining: 2m 16s\n",
      "18:\tlearn: 0.2445123\ttotal: 14.5s\tremaining: 2m 18s\n",
      "19:\tlearn: 0.2440060\ttotal: 15.6s\tremaining: 2m 20s\n",
      "20:\tlearn: 0.2434716\ttotal: 16.6s\tremaining: 2m 21s\n",
      "21:\tlearn: 0.2430262\ttotal: 17.8s\tremaining: 2m 24s\n",
      "22:\tlearn: 0.2427898\ttotal: 19s\tremaining: 2m 26s\n",
      "23:\tlearn: 0.2424813\ttotal: 19.9s\tremaining: 2m 25s\n",
      "24:\tlearn: 0.2423955\ttotal: 20.9s\tremaining: 2m 26s\n",
      "25:\tlearn: 0.2419104\ttotal: 21.9s\tremaining: 2m 26s\n",
      "26:\tlearn: 0.2408215\ttotal: 23s\tremaining: 2m 27s\n",
      "27:\tlearn: 0.2406810\ttotal: 23.9s\tremaining: 2m 26s\n",
      "28:\tlearn: 0.2404963\ttotal: 25s\tremaining: 2m 27s\n",
      "29:\tlearn: 0.2399246\ttotal: 26s\tremaining: 2m 27s\n",
      "30:\tlearn: 0.2396474\ttotal: 27s\tremaining: 2m 27s\n",
      "31:\tlearn: 0.2394095\ttotal: 27.9s\tremaining: 2m 26s\n",
      "32:\tlearn: 0.2389783\ttotal: 29s\tremaining: 2m 26s\n",
      "33:\tlearn: 0.2388500\ttotal: 30.1s\tremaining: 2m 26s\n",
      "34:\tlearn: 0.2387111\ttotal: 31.2s\tremaining: 2m 27s\n",
      "35:\tlearn: 0.2385885\ttotal: 32.3s\tremaining: 2m 27s\n",
      "36:\tlearn: 0.2381697\ttotal: 33.4s\tremaining: 2m 27s\n",
      "37:\tlearn: 0.2378807\ttotal: 34.4s\tremaining: 2m 26s\n",
      "38:\tlearn: 0.2372011\ttotal: 35.5s\tremaining: 2m 26s\n",
      "39:\tlearn: 0.2370276\ttotal: 36.5s\tremaining: 2m 25s\n",
      "40:\tlearn: 0.2367962\ttotal: 37.4s\tremaining: 2m 25s\n",
      "41:\tlearn: 0.2365832\ttotal: 38.5s\tremaining: 2m 24s\n",
      "42:\tlearn: 0.2361776\ttotal: 39.4s\tremaining: 2m 24s\n",
      "43:\tlearn: 0.2361269\ttotal: 40.5s\tremaining: 2m 23s\n",
      "44:\tlearn: 0.2360232\ttotal: 41.6s\tremaining: 2m 23s\n",
      "45:\tlearn: 0.2357252\ttotal: 42.7s\tremaining: 2m 22s\n",
      "46:\tlearn: 0.2355507\ttotal: 43.8s\tremaining: 2m 22s\n",
      "47:\tlearn: 0.2354558\ttotal: 44.9s\tremaining: 2m 22s\n",
      "48:\tlearn: 0.2353445\ttotal: 45.9s\tremaining: 2m 21s\n",
      "49:\tlearn: 0.2351420\ttotal: 46.9s\tremaining: 2m 20s\n",
      "50:\tlearn: 0.2349846\ttotal: 48s\tremaining: 2m 20s\n",
      "51:\tlearn: 0.2348117\ttotal: 49.1s\tremaining: 2m 19s\n",
      "52:\tlearn: 0.2346888\ttotal: 50.1s\tremaining: 2m 18s\n",
      "53:\tlearn: 0.2345278\ttotal: 51.2s\tremaining: 2m 18s\n",
      "54:\tlearn: 0.2344929\ttotal: 52.2s\tremaining: 2m 17s\n",
      "55:\tlearn: 0.2344443\ttotal: 53.4s\tremaining: 2m 17s\n",
      "56:\tlearn: 0.2344122\ttotal: 54.6s\tremaining: 2m 17s\n",
      "57:\tlearn: 0.2343400\ttotal: 55.6s\tremaining: 2m 16s\n",
      "58:\tlearn: 0.2343088\ttotal: 56.7s\tremaining: 2m 15s\n",
      "59:\tlearn: 0.2342095\ttotal: 58s\tremaining: 2m 15s\n",
      "60:\tlearn: 0.2341517\ttotal: 59.4s\tremaining: 2m 15s\n",
      "61:\tlearn: 0.2340677\ttotal: 1m\tremaining: 2m 14s\n",
      "62:\tlearn: 0.2340355\ttotal: 1m 1s\tremaining: 2m 13s\n",
      "63:\tlearn: 0.2339167\ttotal: 1m 2s\tremaining: 2m 12s\n",
      "64:\tlearn: 0.2339027\ttotal: 1m 3s\tremaining: 2m 11s\n",
      "65:\tlearn: 0.2338783\ttotal: 1m 4s\tremaining: 2m 10s\n",
      "66:\tlearn: 0.2338435\ttotal: 1m 5s\tremaining: 2m 10s\n",
      "67:\tlearn: 0.2337561\ttotal: 1m 6s\tremaining: 2m 9s\n",
      "68:\tlearn: 0.2335795\ttotal: 1m 8s\tremaining: 2m 9s\n",
      "69:\tlearn: 0.2334005\ttotal: 1m 9s\tremaining: 2m 8s\n",
      "70:\tlearn: 0.2332278\ttotal: 1m 10s\tremaining: 2m 7s\n",
      "71:\tlearn: 0.2331946\ttotal: 1m 11s\tremaining: 2m 6s\n",
      "72:\tlearn: 0.2331457\ttotal: 1m 12s\tremaining: 2m 5s\n",
      "73:\tlearn: 0.2330451\ttotal: 1m 13s\tremaining: 2m 4s\n",
      "74:\tlearn: 0.2329499\ttotal: 1m 14s\tremaining: 2m 4s\n",
      "75:\tlearn: 0.2327357\ttotal: 1m 15s\tremaining: 2m 3s\n",
      "76:\tlearn: 0.2325911\ttotal: 1m 16s\tremaining: 2m 2s\n",
      "77:\tlearn: 0.2325457\ttotal: 1m 17s\tremaining: 2m 1s\n",
      "78:\tlearn: 0.2325328\ttotal: 1m 18s\tremaining: 2m\n",
      "79:\tlearn: 0.2324192\ttotal: 1m 19s\tremaining: 1m 59s\n",
      "80:\tlearn: 0.2323110\ttotal: 1m 20s\tremaining: 1m 58s\n",
      "81:\tlearn: 0.2322950\ttotal: 1m 21s\tremaining: 1m 57s\n",
      "82:\tlearn: 0.2322418\ttotal: 1m 22s\tremaining: 1m 56s\n",
      "83:\tlearn: 0.2321134\ttotal: 1m 23s\tremaining: 1m 55s\n",
      "84:\tlearn: 0.2320943\ttotal: 1m 25s\tremaining: 1m 55s\n",
      "85:\tlearn: 0.2319738\ttotal: 1m 26s\tremaining: 1m 54s\n",
      "86:\tlearn: 0.2318332\ttotal: 1m 27s\tremaining: 1m 53s\n",
      "87:\tlearn: 0.2317909\ttotal: 1m 28s\tremaining: 1m 52s\n",
      "88:\tlearn: 0.2317785\ttotal: 1m 28s\tremaining: 1m 50s\n",
      "89:\tlearn: 0.2317255\ttotal: 1m 30s\tremaining: 1m 50s\n",
      "90:\tlearn: 0.2316944\ttotal: 1m 31s\tremaining: 1m 49s\n",
      "91:\tlearn: 0.2315752\ttotal: 1m 32s\tremaining: 1m 48s\n",
      "92:\tlearn: 0.2315274\ttotal: 1m 33s\tremaining: 1m 47s\n",
      "93:\tlearn: 0.2313366\ttotal: 1m 34s\tremaining: 1m 46s\n",
      "94:\tlearn: 0.2311690\ttotal: 1m 35s\tremaining: 1m 45s\n",
      "95:\tlearn: 0.2309918\ttotal: 1m 36s\tremaining: 1m 44s\n",
      "96:\tlearn: 0.2309139\ttotal: 1m 37s\tremaining: 1m 43s\n",
      "97:\tlearn: 0.2308107\ttotal: 1m 38s\tremaining: 1m 42s\n",
      "98:\tlearn: 0.2308106\ttotal: 1m 39s\tremaining: 1m 41s\n",
      "99:\tlearn: 0.2306633\ttotal: 1m 40s\tremaining: 1m 40s\n",
      "100:\tlearn: 0.2305482\ttotal: 1m 41s\tremaining: 1m 39s\n",
      "101:\tlearn: 0.2305064\ttotal: 1m 42s\tremaining: 1m 38s\n",
      "102:\tlearn: 0.2304086\ttotal: 1m 43s\tremaining: 1m 37s\n",
      "103:\tlearn: 0.2303464\ttotal: 1m 44s\tremaining: 1m 36s\n",
      "104:\tlearn: 0.2302798\ttotal: 1m 45s\tremaining: 1m 35s\n",
      "105:\tlearn: 0.2302144\ttotal: 1m 46s\tremaining: 1m 34s\n",
      "106:\tlearn: 0.2300935\ttotal: 1m 47s\tremaining: 1m 33s\n",
      "107:\tlearn: 0.2300262\ttotal: 1m 48s\tremaining: 1m 32s\n",
      "108:\tlearn: 0.2298715\ttotal: 1m 49s\tremaining: 1m 31s\n",
      "109:\tlearn: 0.2298104\ttotal: 1m 50s\tremaining: 1m 30s\n",
      "110:\tlearn: 0.2296497\ttotal: 1m 51s\tremaining: 1m 29s\n",
      "111:\tlearn: 0.2296025\ttotal: 1m 52s\tremaining: 1m 28s\n",
      "112:\tlearn: 0.2294597\ttotal: 1m 53s\tremaining: 1m 27s\n",
      "113:\tlearn: 0.2293895\ttotal: 1m 54s\tremaining: 1m 26s\n",
      "114:\tlearn: 0.2293312\ttotal: 1m 55s\tremaining: 1m 25s\n",
      "115:\tlearn: 0.2291553\ttotal: 1m 56s\tremaining: 1m 24s\n",
      "116:\tlearn: 0.2290926\ttotal: 1m 57s\tremaining: 1m 23s\n",
      "117:\tlearn: 0.2290869\ttotal: 1m 58s\tremaining: 1m 22s\n",
      "118:\tlearn: 0.2290241\ttotal: 1m 59s\tremaining: 1m 21s\n",
      "119:\tlearn: 0.2288160\ttotal: 2m\tremaining: 1m 20s\n",
      "120:\tlearn: 0.2287691\ttotal: 2m 1s\tremaining: 1m 19s\n",
      "121:\tlearn: 0.2286744\ttotal: 2m 2s\tremaining: 1m 18s\n",
      "122:\tlearn: 0.2285743\ttotal: 2m 3s\tremaining: 1m 17s\n",
      "123:\tlearn: 0.2285743\ttotal: 2m 4s\tremaining: 1m 16s\n",
      "124:\tlearn: 0.2285466\ttotal: 2m 5s\tremaining: 1m 15s\n",
      "125:\tlearn: 0.2285251\ttotal: 2m 6s\tremaining: 1m 14s\n",
      "126:\tlearn: 0.2284693\ttotal: 2m 7s\tremaining: 1m 13s\n",
      "127:\tlearn: 0.2284543\ttotal: 2m 8s\tremaining: 1m 12s\n",
      "128:\tlearn: 0.2284188\ttotal: 2m 9s\tremaining: 1m 11s\n",
      "129:\tlearn: 0.2283399\ttotal: 2m 10s\tremaining: 1m 10s\n",
      "130:\tlearn: 0.2282305\ttotal: 2m 11s\tremaining: 1m 9s\n",
      "131:\tlearn: 0.2281398\ttotal: 2m 13s\tremaining: 1m 8s\n",
      "132:\tlearn: 0.2281151\ttotal: 2m 14s\tremaining: 1m 7s\n",
      "133:\tlearn: 0.2280247\ttotal: 2m 15s\tremaining: 1m 6s\n",
      "134:\tlearn: 0.2279573\ttotal: 2m 16s\tremaining: 1m 5s\n",
      "135:\tlearn: 0.2279528\ttotal: 2m 17s\tremaining: 1m 4s\n",
      "136:\tlearn: 0.2278880\ttotal: 2m 18s\tremaining: 1m 3s\n",
      "137:\tlearn: 0.2278715\ttotal: 2m 19s\tremaining: 1m 2s\n",
      "138:\tlearn: 0.2278376\ttotal: 2m 20s\tremaining: 1m 1s\n",
      "139:\tlearn: 0.2278295\ttotal: 2m 21s\tremaining: 1m\n",
      "140:\tlearn: 0.2277553\ttotal: 2m 22s\tremaining: 59.6s\n",
      "141:\tlearn: 0.2277382\ttotal: 2m 23s\tremaining: 58.6s\n",
      "142:\tlearn: 0.2276875\ttotal: 2m 24s\tremaining: 57.6s\n",
      "143:\tlearn: 0.2276113\ttotal: 2m 25s\tremaining: 56.6s\n",
      "144:\tlearn: 0.2275532\ttotal: 2m 26s\tremaining: 55.6s\n",
      "145:\tlearn: 0.2274753\ttotal: 2m 27s\tremaining: 54.6s\n",
      "146:\tlearn: 0.2274091\ttotal: 2m 28s\tremaining: 53.6s\n",
      "147:\tlearn: 0.2273627\ttotal: 2m 29s\tremaining: 52.6s\n",
      "148:\tlearn: 0.2273384\ttotal: 2m 30s\tremaining: 51.6s\n",
      "149:\tlearn: 0.2273014\ttotal: 2m 31s\tremaining: 50.6s\n",
      "150:\tlearn: 0.2272399\ttotal: 2m 32s\tremaining: 49.6s\n",
      "151:\tlearn: 0.2272246\ttotal: 2m 33s\tremaining: 48.6s\n",
      "152:\tlearn: 0.2271709\ttotal: 2m 34s\tremaining: 47.6s\n",
      "153:\tlearn: 0.2271497\ttotal: 2m 35s\tremaining: 46.6s\n",
      "154:\tlearn: 0.2270849\ttotal: 2m 37s\tremaining: 45.6s\n",
      "155:\tlearn: 0.2270370\ttotal: 2m 38s\tremaining: 44.6s\n",
      "156:\tlearn: 0.2269927\ttotal: 2m 39s\tremaining: 43.7s\n",
      "157:\tlearn: 0.2269443\ttotal: 2m 40s\tremaining: 42.7s\n",
      "158:\tlearn: 0.2268744\ttotal: 2m 41s\tremaining: 41.7s\n",
      "159:\tlearn: 0.2268408\ttotal: 2m 43s\tremaining: 40.8s\n",
      "160:\tlearn: 0.2267815\ttotal: 2m 44s\tremaining: 39.8s\n",
      "161:\tlearn: 0.2266830\ttotal: 2m 45s\tremaining: 38.8s\n",
      "162:\tlearn: 0.2266268\ttotal: 2m 46s\tremaining: 37.8s\n",
      "163:\tlearn: 0.2265163\ttotal: 2m 47s\tremaining: 36.8s\n",
      "164:\tlearn: 0.2264114\ttotal: 2m 48s\tremaining: 35.8s\n",
      "165:\tlearn: 0.2263807\ttotal: 2m 49s\tremaining: 34.8s\n",
      "166:\tlearn: 0.2263584\ttotal: 2m 50s\tremaining: 33.8s\n",
      "167:\tlearn: 0.2263311\ttotal: 2m 52s\tremaining: 32.8s\n",
      "168:\tlearn: 0.2262779\ttotal: 2m 53s\tremaining: 31.8s\n",
      "169:\tlearn: 0.2260347\ttotal: 2m 54s\tremaining: 30.7s\n",
      "170:\tlearn: 0.2259492\ttotal: 2m 55s\tremaining: 29.8s\n",
      "171:\tlearn: 0.2259196\ttotal: 2m 56s\tremaining: 28.8s\n",
      "172:\tlearn: 0.2258732\ttotal: 2m 58s\tremaining: 27.8s\n",
      "173:\tlearn: 0.2258382\ttotal: 2m 59s\tremaining: 26.8s\n",
      "174:\tlearn: 0.2257090\ttotal: 3m\tremaining: 25.8s\n",
      "175:\tlearn: 0.2256763\ttotal: 3m 1s\tremaining: 24.8s\n",
      "176:\tlearn: 0.2256559\ttotal: 3m 3s\tremaining: 23.8s\n",
      "177:\tlearn: 0.2255484\ttotal: 3m 4s\tremaining: 22.8s\n",
      "178:\tlearn: 0.2255302\ttotal: 3m 5s\tremaining: 21.8s\n",
      "179:\tlearn: 0.2255210\ttotal: 3m 6s\tremaining: 20.8s\n",
      "180:\tlearn: 0.2255158\ttotal: 3m 7s\tremaining: 19.7s\n",
      "181:\tlearn: 0.2254691\ttotal: 3m 8s\tremaining: 18.7s\n",
      "182:\tlearn: 0.2254571\ttotal: 3m 9s\tremaining: 17.6s\n",
      "183:\tlearn: 0.2253730\ttotal: 3m 10s\tremaining: 16.6s\n",
      "184:\tlearn: 0.2253402\ttotal: 3m 12s\tremaining: 15.6s\n",
      "185:\tlearn: 0.2252871\ttotal: 3m 13s\tremaining: 14.5s\n",
      "186:\tlearn: 0.2252432\ttotal: 3m 14s\tremaining: 13.5s\n",
      "187:\tlearn: 0.2251560\ttotal: 3m 15s\tremaining: 12.5s\n",
      "188:\tlearn: 0.2251060\ttotal: 3m 16s\tremaining: 11.4s\n",
      "189:\tlearn: 0.2250741\ttotal: 3m 17s\tremaining: 10.4s\n",
      "190:\tlearn: 0.2250359\ttotal: 3m 18s\tremaining: 9.34s\n",
      "191:\tlearn: 0.2249677\ttotal: 3m 19s\tremaining: 8.3s\n",
      "192:\tlearn: 0.2249186\ttotal: 3m 20s\tremaining: 7.27s\n",
      "193:\tlearn: 0.2248393\ttotal: 3m 21s\tremaining: 6.23s\n",
      "194:\tlearn: 0.2248174\ttotal: 3m 22s\tremaining: 5.19s\n",
      "195:\tlearn: 0.2247152\ttotal: 3m 23s\tremaining: 4.15s\n",
      "196:\tlearn: 0.2246924\ttotal: 3m 24s\tremaining: 3.11s\n",
      "197:\tlearn: 0.2246456\ttotal: 3m 25s\tremaining: 2.07s\n",
      "198:\tlearn: 0.2246424\ttotal: 3m 26s\tremaining: 1.03s\n",
      "199:\tlearn: 0.2245484\ttotal: 3m 27s\tremaining: 0us\n"
     ]
    }
   ],
   "source": [
    "X_train, X_test, y_train, y_test = train_test_split(X, y, test_size=0.3, random_state=42)\n",
    "clf.fit(X_train, y_train)\n",
    "pred_train = clf.predict_proba(X_test)"
   ]
  },
  {
   "cell_type": "code",
   "execution_count": 14,
   "metadata": {
    "scrolled": true
   },
   "outputs": [],
   "source": [
    "def convert_2_prob(border, pred):\n",
    "    pred_label = np.zeros(len(pred))\n",
    "    for i, prob in enumerate(pred):\n",
    "        if prob[1] < border:\n",
    "            pred_label[i] = 0\n",
    "        else:\n",
    "            pred_label[i] = 1\n",
    "    return pred_label"
   ]
  },
  {
   "cell_type": "code",
   "execution_count": 15,
   "metadata": {},
   "outputs": [
    {
     "name": "stdout",
     "output_type": "stream",
     "text": [
      "Recall 0.8977576491537025\n"
     ]
    }
   ],
   "source": [
    "score = recall_score(y_test, convert_2_prob(border=0.5, pred=pred_train), average = \"macro\" )\n",
    "print(\"Recall\", score)"
   ]
  },
  {
   "cell_type": "markdown",
   "metadata": {
    "id": "60NotS9ehbO5"
   },
   "source": [
    "# Предсказание"
   ]
  },
  {
   "cell_type": "code",
   "execution_count": null,
   "metadata": {},
   "outputs": [],
   "source": [
    "clf.fit(X, y)"
   ]
  },
  {
   "cell_type": "code",
   "execution_count": 23,
   "metadata": {
    "scrolled": true
   },
   "outputs": [],
   "source": [
    "pred = clf.predict_proba(df_test_new)"
   ]
  },
  {
   "cell_type": "markdown",
   "metadata": {},
   "source": [
    "# Отправка на проверку"
   ]
  },
  {
   "cell_type": "code",
   "execution_count": 24,
   "metadata": {
    "scrolled": true
   },
   "outputs": [],
   "source": [
    "pred_label = convert_2_prob(border=0.17, pred=pred)"
   ]
  },
  {
   "cell_type": "code",
   "execution_count": 25,
   "metadata": {},
   "outputs": [],
   "source": [
    "def save_ans(name_file, pred=pred, id_label=df_test['id'], dir_file=r'C:\\Users\\RedmiBook\\Documents\\hacks\\Russian Post\\res\\\\'):\n",
    "    arr, label = pred.astype('byte'), np.array(id_label).astype('int32')\n",
    "    pd.DataFrame(data={'id': label, 'label': arr}, columns=['id', 'label']).to_csv(dir_file + name_file + '.csv', index=False, lineterminator='\\n')"
   ]
  },
  {
   "cell_type": "code",
   "execution_count": 26,
   "metadata": {},
   "outputs": [],
   "source": [
    "save_ans(name_file='fin_cb', pred=pred_label)"
   ]
  }
 ],
 "metadata": {
  "colab": {
   "provenance": []
  },
  "kernelspec": {
   "display_name": "Python 3 (ipykernel)",
   "language": "python",
   "name": "python3"
  },
  "language_info": {
   "codemirror_mode": {
    "name": "ipython",
    "version": 3
   },
   "file_extension": ".py",
   "mimetype": "text/x-python",
   "name": "python",
   "nbconvert_exporter": "python",
   "pygments_lexer": "ipython3",
   "version": "3.9.7"
  }
 },
 "nbformat": 4,
 "nbformat_minor": 1
}
